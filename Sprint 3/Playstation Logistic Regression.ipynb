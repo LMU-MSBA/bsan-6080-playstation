{
 "cells": [
  {
   "cell_type": "code",
   "execution_count": 1,
   "id": "cc8e701d",
   "metadata": {},
   "outputs": [],
   "source": [
    "#Import basic packages\n",
    "import pandas as pd\n",
    "import numpy as np\n",
    "\n",
    "#Import vizualization packages\n",
    "import matplotlib.pyplot as plt\n",
    "import seaborn as sns\n",
    "\n",
    "#Import linear model packages\n",
    "from sklearn.model_selection import train_test_split\n",
    "from sklearn import linear_model\n",
    "from sklearn.linear_model import LogisticRegression\n",
    "\n",
    "#Import decision tree packages\n",
    "from sklearn.tree import DecisionTreeClassifier\n",
    "from sklearn.ensemble import RandomForestClassifier\n",
    "from sklearn.ensemble import AdaBoostClassifier\n",
    "from sklearn.ensemble import GradientBoostingClassifier\n",
    "\n",
    "from sklearn.preprocessing import LabelEncoder\n",
    "from sklearn import metrics\n",
    "from sklearn.metrics import classification_report, confusion_matrix\n",
    "from sklearn.metrics import roc_curve\n",
    "from sklearn.metrics import auc\n",
    "from sklearn.metrics import plot_roc_curve\n",
    "from sklearn.metrics import roc_auc_score\n",
    "from sklearn.metrics import accuracy_score\n",
    "from sklearn.metrics import precision_score\n",
    "from sklearn.metrics import f1_score\n",
    "from sklearn.metrics import recall_score"
   ]
  },
  {
   "cell_type": "code",
   "execution_count": 2,
   "id": "a0bab4f6",
   "metadata": {},
   "outputs": [],
   "source": [
    "df = pd.read_csv('ps_subs_table.csv')"
   ]
  },
  {
   "cell_type": "code",
   "execution_count": 3,
   "id": "5129d329",
   "metadata": {},
   "outputs": [
    {
     "data": {
      "text/plain": [
       "(2000, 5)"
      ]
     },
     "execution_count": 3,
     "metadata": {},
     "output_type": "execute_result"
    }
   ],
   "source": [
    "df.shape"
   ]
  },
  {
   "cell_type": "code",
   "execution_count": 4,
   "id": "acbace54",
   "metadata": {},
   "outputs": [
    {
     "name": "stdout",
     "output_type": "stream",
     "text": [
      "<class 'pandas.core.frame.DataFrame'>\n",
      "RangeIndex: 2000 entries, 0 to 1999\n",
      "Data columns (total 5 columns):\n",
      " #   Column       Non-Null Count  Dtype  \n",
      "---  ------       --------------  -----  \n",
      " 0   ps_plus_sub  2000 non-null   int64  \n",
      " 1   ps_now_sub   2000 non-null   int64  \n",
      " 2   pay_amt      2000 non-null   float64\n",
      " 3   pay_cycle    2000 non-null   int64  \n",
      " 4   system       2000 non-null   int64  \n",
      "dtypes: float64(1), int64(4)\n",
      "memory usage: 78.2 KB\n"
     ]
    }
   ],
   "source": [
    "df.info()"
   ]
  },
  {
   "cell_type": "code",
   "execution_count": 5,
   "id": "761f0dc9",
   "metadata": {},
   "outputs": [
    {
     "data": {
      "text/html": [
       "<div>\n",
       "<style scoped>\n",
       "    .dataframe tbody tr th:only-of-type {\n",
       "        vertical-align: middle;\n",
       "    }\n",
       "\n",
       "    .dataframe tbody tr th {\n",
       "        vertical-align: top;\n",
       "    }\n",
       "\n",
       "    .dataframe thead th {\n",
       "        text-align: right;\n",
       "    }\n",
       "</style>\n",
       "<table border=\"1\" class=\"dataframe\">\n",
       "  <thead>\n",
       "    <tr style=\"text-align: right;\">\n",
       "      <th></th>\n",
       "      <th>ps_plus_sub</th>\n",
       "      <th>ps_now_sub</th>\n",
       "      <th>pay_amt</th>\n",
       "      <th>pay_cycle</th>\n",
       "      <th>system</th>\n",
       "    </tr>\n",
       "  </thead>\n",
       "  <tbody>\n",
       "    <tr>\n",
       "      <th>0</th>\n",
       "      <td>1</td>\n",
       "      <td>0</td>\n",
       "      <td>49.99</td>\n",
       "      <td>0</td>\n",
       "      <td>0</td>\n",
       "    </tr>\n",
       "    <tr>\n",
       "      <th>1</th>\n",
       "      <td>0</td>\n",
       "      <td>1</td>\n",
       "      <td>59.99</td>\n",
       "      <td>0</td>\n",
       "      <td>0</td>\n",
       "    </tr>\n",
       "    <tr>\n",
       "      <th>2</th>\n",
       "      <td>0</td>\n",
       "      <td>0</td>\n",
       "      <td>0.00</td>\n",
       "      <td>1</td>\n",
       "      <td>0</td>\n",
       "    </tr>\n",
       "    <tr>\n",
       "      <th>3</th>\n",
       "      <td>1</td>\n",
       "      <td>1</td>\n",
       "      <td>109.98</td>\n",
       "      <td>0</td>\n",
       "      <td>1</td>\n",
       "    </tr>\n",
       "    <tr>\n",
       "      <th>4</th>\n",
       "      <td>0</td>\n",
       "      <td>0</td>\n",
       "      <td>0.00</td>\n",
       "      <td>1</td>\n",
       "      <td>0</td>\n",
       "    </tr>\n",
       "  </tbody>\n",
       "</table>\n",
       "</div>"
      ],
      "text/plain": [
       "   ps_plus_sub  ps_now_sub  pay_amt  pay_cycle  system\n",
       "0            1           0    49.99          0       0\n",
       "1            0           1    59.99          0       0\n",
       "2            0           0     0.00          1       0\n",
       "3            1           1   109.98          0       1\n",
       "4            0           0     0.00          1       0"
      ]
     },
     "execution_count": 5,
     "metadata": {},
     "output_type": "execute_result"
    }
   ],
   "source": [
    "df.head()"
   ]
  },
  {
   "cell_type": "code",
   "execution_count": 6,
   "id": "2cbc812a",
   "metadata": {},
   "outputs": [
    {
     "data": {
      "text/html": [
       "<div>\n",
       "<style scoped>\n",
       "    .dataframe tbody tr th:only-of-type {\n",
       "        vertical-align: middle;\n",
       "    }\n",
       "\n",
       "    .dataframe tbody tr th {\n",
       "        vertical-align: top;\n",
       "    }\n",
       "\n",
       "    .dataframe thead th {\n",
       "        text-align: right;\n",
       "    }\n",
       "</style>\n",
       "<table border=\"1\" class=\"dataframe\">\n",
       "  <thead>\n",
       "    <tr style=\"text-align: right;\">\n",
       "      <th></th>\n",
       "      <th>ps_plus_sub</th>\n",
       "      <th>ps_now_sub</th>\n",
       "      <th>pay_amt</th>\n",
       "      <th>pay_cycle</th>\n",
       "      <th>system</th>\n",
       "    </tr>\n",
       "  </thead>\n",
       "  <tbody>\n",
       "    <tr>\n",
       "      <th>count</th>\n",
       "      <td>2000.000000</td>\n",
       "      <td>2000.000000</td>\n",
       "      <td>2000.000000</td>\n",
       "      <td>2000.000000</td>\n",
       "      <td>2000.000000</td>\n",
       "    </tr>\n",
       "    <tr>\n",
       "      <th>mean</th>\n",
       "      <td>0.509500</td>\n",
       "      <td>0.508500</td>\n",
       "      <td>55.974820</td>\n",
       "      <td>0.373500</td>\n",
       "      <td>0.505500</td>\n",
       "    </tr>\n",
       "    <tr>\n",
       "      <th>std</th>\n",
       "      <td>0.500035</td>\n",
       "      <td>0.500053</td>\n",
       "      <td>48.159614</td>\n",
       "      <td>0.483854</td>\n",
       "      <td>0.500095</td>\n",
       "    </tr>\n",
       "    <tr>\n",
       "      <th>min</th>\n",
       "      <td>0.000000</td>\n",
       "      <td>0.000000</td>\n",
       "      <td>0.000000</td>\n",
       "      <td>0.000000</td>\n",
       "      <td>0.000000</td>\n",
       "    </tr>\n",
       "    <tr>\n",
       "      <th>25%</th>\n",
       "      <td>0.000000</td>\n",
       "      <td>0.000000</td>\n",
       "      <td>0.000000</td>\n",
       "      <td>0.000000</td>\n",
       "      <td>0.000000</td>\n",
       "    </tr>\n",
       "    <tr>\n",
       "      <th>50%</th>\n",
       "      <td>1.000000</td>\n",
       "      <td>1.000000</td>\n",
       "      <td>59.990000</td>\n",
       "      <td>0.000000</td>\n",
       "      <td>1.000000</td>\n",
       "    </tr>\n",
       "    <tr>\n",
       "      <th>75%</th>\n",
       "      <td>1.000000</td>\n",
       "      <td>1.000000</td>\n",
       "      <td>109.980000</td>\n",
       "      <td>1.000000</td>\n",
       "      <td>1.000000</td>\n",
       "    </tr>\n",
       "    <tr>\n",
       "      <th>max</th>\n",
       "      <td>1.000000</td>\n",
       "      <td>1.000000</td>\n",
       "      <td>109.980000</td>\n",
       "      <td>1.000000</td>\n",
       "      <td>1.000000</td>\n",
       "    </tr>\n",
       "  </tbody>\n",
       "</table>\n",
       "</div>"
      ],
      "text/plain": [
       "       ps_plus_sub   ps_now_sub      pay_amt    pay_cycle       system\n",
       "count  2000.000000  2000.000000  2000.000000  2000.000000  2000.000000\n",
       "mean      0.509500     0.508500    55.974820     0.373500     0.505500\n",
       "std       0.500035     0.500053    48.159614     0.483854     0.500095\n",
       "min       0.000000     0.000000     0.000000     0.000000     0.000000\n",
       "25%       0.000000     0.000000     0.000000     0.000000     0.000000\n",
       "50%       1.000000     1.000000    59.990000     0.000000     1.000000\n",
       "75%       1.000000     1.000000   109.980000     1.000000     1.000000\n",
       "max       1.000000     1.000000   109.980000     1.000000     1.000000"
      ]
     },
     "execution_count": 6,
     "metadata": {},
     "output_type": "execute_result"
    }
   ],
   "source": [
    "df.describe()"
   ]
  },
  {
   "cell_type": "code",
   "execution_count": 7,
   "id": "da7c767a",
   "metadata": {},
   "outputs": [
    {
     "data": {
      "text/plain": [
       "ps_plus_sub    0\n",
       "ps_now_sub     0\n",
       "pay_amt        0\n",
       "pay_cycle      0\n",
       "system         0\n",
       "dtype: int64"
      ]
     },
     "execution_count": 7,
     "metadata": {},
     "output_type": "execute_result"
    }
   ],
   "source": [
    "df.isnull().sum()"
   ]
  },
  {
   "cell_type": "markdown",
   "id": "557b0b63",
   "metadata": {},
   "source": [
    "## DATA CLEANING"
   ]
  },
  {
   "cell_type": "code",
   "execution_count": 8,
   "id": "3145bb9d",
   "metadata": {
    "scrolled": true
   },
   "outputs": [
    {
     "data": {
      "text/plain": [
       "<AxesSubplot:>"
      ]
     },
     "execution_count": 8,
     "metadata": {},
     "output_type": "execute_result"
    },
    {
     "data": {
      "image/png": "[encoded data removed]",
      "text/plain": [
       "<Figure size 1080x576 with 2 Axes>"
      ]
     },
     "metadata": {
      "needs_background": "light"
     },
     "output_type": "display_data"
    }
   ],
   "source": [
    "#Checking for multicollinearity\n",
    "plt.figure(figsize = (15,8))\n",
    "sns.heatmap(df.corr(), annot = True, linewidths = 0.1, cmap = 'Reds')"
   ]
  },
  {
   "cell_type": "code",
   "execution_count": 9,
   "id": "8681833e",
   "metadata": {},
   "outputs": [],
   "source": [
    "#Dropping columns with high multicollinearity\n",
    "\n",
    "df = df.drop(['pay_amt'], axis = 1)"
   ]
  },
  {
   "cell_type": "markdown",
   "id": "c4fc925f",
   "metadata": {},
   "source": [
    "## MODEL 1 PLAYSTATION NOW SUBSCRIPTIONS"
   ]
  },
  {
   "cell_type": "code",
   "execution_count": 10,
   "id": "bca120dc",
   "metadata": {},
   "outputs": [],
   "source": [
    "#Selecting dependent and independent variables\n",
    "\n",
    "x1 = df.drop(['ps_now_sub'],axis = 1)\n",
    "y1 = df.ps_now_sub"
   ]
  },
  {
   "cell_type": "code",
   "execution_count": 11,
   "id": "e23c8385",
   "metadata": {},
   "outputs": [],
   "source": [
    "#Splitting data into training and testing\n",
    "\n",
    "x1_train, x1_test, y1_train, y1_test = train_test_split(x1, y1, test_size = 0.3, random_state = 101)"
   ]
  },
  {
   "cell_type": "code",
   "execution_count": 12,
   "id": "8f79c45c",
   "metadata": {},
   "outputs": [],
   "source": [
    "#Creating our logistic regression model\n",
    "\n",
    "log_reg1 = linear_model.LogisticRegression(C = 1e40, solver = 'newton-cg')"
   ]
  },
  {
   "cell_type": "code",
   "execution_count": 13,
   "id": "27b41790",
   "metadata": {},
   "outputs": [],
   "source": [
    "#Fitting the model with the data\n",
    "\n",
    "fitted_model = log_reg1.fit(x1_train, y1_train)"
   ]
  },
  {
   "cell_type": "code",
   "execution_count": 14,
   "id": "39e69a9b",
   "metadata": {},
   "outputs": [
    {
     "name": "stdout",
     "output_type": "stream",
     "text": [
      "Logistic regression model 1 accuracy is 0.88\n"
     ]
    }
   ],
   "source": [
    "#Predicting the accuracy of the model\n",
    "\n",
    "y1_pred = log_reg1.predict(x1_test)\n",
    "print(\"Logistic regression model 1 accuracy is\", round(accuracy_score(y1_test.values.flatten(),y1_pred),2))"
   ]
  },
  {
   "cell_type": "code",
   "execution_count": 15,
   "id": "5b8ba089",
   "metadata": {},
   "outputs": [
    {
     "data": {
      "text/plain": [
       "LogisticRegression()"
      ]
     },
     "execution_count": 15,
     "metadata": {},
     "output_type": "execute_result"
    }
   ],
   "source": [
    "#Creating a variable to store the Logistic regression function\n",
    "\n",
    "lr1 = LogisticRegression()\n",
    "lr1.fit(x1_train, y1_train)"
   ]
  },
  {
   "cell_type": "code",
   "execution_count": 16,
   "id": "bbddd651",
   "metadata": {},
   "outputs": [
    {
     "data": {
      "text/plain": [
       "system        -0.117877\n",
       "ps_plus_sub   -0.825957\n",
       "pay_cycle     -3.429149\n",
       "dtype: float64"
      ]
     },
     "execution_count": 16,
     "metadata": {},
     "output_type": "execute_result"
    }
   ],
   "source": [
    "#Higher value of coefficients will imply larger influence of the corresponding features on the outcome\n",
    "\n",
    "features = np.std(x1_train,0)*lr1.coef_[0]\n",
    "features.sort_values(ascending=False)"
   ]
  },
  {
   "cell_type": "code",
   "execution_count": 17,
   "id": "71085bd3",
   "metadata": {
    "scrolled": true
   },
   "outputs": [
    {
     "name": "stdout",
     "output_type": "stream",
     "text": [
      "              precision    recall  f1-score   support\n",
      "\n",
      "           0       1.00      0.77      0.87       319\n",
      "           1       0.79      1.00      0.88       281\n",
      "\n",
      "    accuracy                           0.88       600\n",
      "   macro avg       0.90      0.88      0.88       600\n",
      "weighted avg       0.90      0.88      0.88       600\n",
      "\n"
     ]
    }
   ],
   "source": [
    "print(classification_report(y1_test, y1_pred))"
   ]
  },
  {
   "cell_type": "code",
   "execution_count": 18,
   "id": "649d3bff",
   "metadata": {},
   "outputs": [
    {
     "data": {
      "text/plain": [
       "Text(0.5, 1.0, 'ROC Curve')"
      ]
     },
     "execution_count": 18,
     "metadata": {},
     "output_type": "execute_result"
    },
    {
     "data": {
      "image/png": "[encoded data removed]",
      "text/plain": [
       "<Figure size 432x288 with 1 Axes>"
      ]
     },
     "metadata": {
      "needs_background": "light"
     },
     "output_type": "display_data"
    }
   ],
   "source": [
    "#Graphing the ROC curve\n",
    "\n",
    "plot_roc_curve(log_reg1, x1_test, y1_test, color = \"blue\")\n",
    "plt.xlabel(\"False Positive Rate\")\n",
    "plt.ylabel(\"True Positive Rate\")\n",
    "plt.title(\"ROC Curve\")"
   ]
  },
  {
   "cell_type": "markdown",
   "id": "6e7c1d23",
   "metadata": {},
   "source": [
    "## MODEL 2 PLAYSTATION PLUS SUBSCRIPTIONS"
   ]
  },
  {
   "cell_type": "code",
   "execution_count": 19,
   "id": "cf164ee6",
   "metadata": {},
   "outputs": [],
   "source": [
    "#Selecting dependent and independent variables\n",
    "\n",
    "x2 = df.drop(['ps_plus_sub'],axis = 1)\n",
    "y2 = df.ps_plus_sub"
   ]
  },
  {
   "cell_type": "code",
   "execution_count": 20,
   "id": "be0e5dbe",
   "metadata": {},
   "outputs": [],
   "source": [
    "#Splitting data into training and testing\n",
    "\n",
    "x2_train, x2_test, y2_train, y2_test = train_test_split(x2, y2, test_size = 0.3, random_state = 101)"
   ]
  },
  {
   "cell_type": "code",
   "execution_count": 21,
   "id": "2f5789c2",
   "metadata": {},
   "outputs": [],
   "source": [
    "#Adding a penalty as a punishment for large number of variables\n",
    "\n",
    "log_reg2 = linear_model.LogisticRegression(C = 1e40, solver = 'newton-cg') "
   ]
  },
  {
   "cell_type": "code",
   "execution_count": 22,
   "id": "10918096",
   "metadata": {},
   "outputs": [],
   "source": [
    "#Fitting the model with the data\n",
    "\n",
    "fitted_model2 = log_reg2.fit(x2_train,y2_train)"
   ]
  },
  {
   "cell_type": "code",
   "execution_count": 23,
   "id": "d8051820",
   "metadata": {},
   "outputs": [
    {
     "name": "stdout",
     "output_type": "stream",
     "text": [
      "Logistic regression model 2 accuracy is 0.8933333333\n"
     ]
    }
   ],
   "source": [
    "y2_pred = log_reg2.predict(x2_test)\n",
    "print(\"Logistic regression model 2 accuracy is\", round(fitted_model2.score(x2_test,y2_test),10))"
   ]
  },
  {
   "cell_type": "code",
   "execution_count": 24,
   "id": "16774486",
   "metadata": {},
   "outputs": [
    {
     "data": {
      "text/plain": [
       "LogisticRegression()"
      ]
     },
     "execution_count": 24,
     "metadata": {},
     "output_type": "execute_result"
    }
   ],
   "source": [
    "#Creating a variable to store the Logistic regression function\n",
    "\n",
    "lr2 = LogisticRegression()\n",
    "lr2.fit(x2_train, y2_train)"
   ]
  },
  {
   "cell_type": "code",
   "execution_count": 25,
   "id": "6de038f3",
   "metadata": {},
   "outputs": [
    {
     "data": {
      "text/plain": [
       "system       -0.082523\n",
       "ps_now_sub   -0.826903\n",
       "pay_cycle    -3.409210\n",
       "dtype: float64"
      ]
     },
     "execution_count": 25,
     "metadata": {},
     "output_type": "execute_result"
    }
   ],
   "source": [
    "#Higher value of coefficients will imply larger influence of the corresponding features on the outcome\n",
    "\n",
    "features = np.std(x2_train,0)*lr2.coef_[0]\n",
    "features.sort_values(ascending=False)"
   ]
  },
  {
   "cell_type": "code",
   "execution_count": 26,
   "id": "e0cf2796",
   "metadata": {
    "scrolled": true
   },
   "outputs": [
    {
     "name": "stdout",
     "output_type": "stream",
     "text": [
      "              precision    recall  f1-score   support\n",
      "\n",
      "           0       1.00      0.79      0.88       309\n",
      "           1       0.82      1.00      0.90       291\n",
      "\n",
      "    accuracy                           0.89       600\n",
      "   macro avg       0.91      0.90      0.89       600\n",
      "weighted avg       0.91      0.89      0.89       600\n",
      "\n"
     ]
    }
   ],
   "source": [
    "print(classification_report(y2_test, y2_pred))"
   ]
  },
  {
   "cell_type": "code",
   "execution_count": 27,
   "id": "cb48ae0c",
   "metadata": {},
   "outputs": [
    {
     "data": {
      "text/plain": [
       "Text(0.5, 1.0, 'ROC Curve')"
      ]
     },
     "execution_count": 27,
     "metadata": {},
     "output_type": "execute_result"
    },
    {
     "data": {
      "image/png": "[encoded data removed]",
      "text/plain": [
       "<Figure size 432x288 with 1 Axes>"
      ]
     },
     "metadata": {
      "needs_background": "light"
     },
     "output_type": "display_data"
    }
   ],
   "source": [
    "#Graphing the ROC curve\n",
    "\n",
    "plot_roc_curve(log_reg2, x2_test, y2_test, color = \"blue\")\n",
    "plt.xlabel(\"False Positive Rate\")\n",
    "plt.ylabel(\"True Positive Rate\")\n",
    "plt.title(\"ROC Curve\")"
   ]
  }
 ],
 "metadata": {
  "kernelspec": {
   "display_name": "Python 3",
   "language": "python",
   "name": "python3"
  },
  "language_info": {
   "codemirror_mode": {
    "name": "ipython",
    "version": 3
   },
   "file_extension": ".py",
   "mimetype": "text/x-python",
   "name": "python",
   "nbconvert_exporter": "python",
   "pygments_lexer": "ipython3",
   "version": "3.8.8"
  }
 },
 "nbformat": 4,
 "nbformat_minor": 5
}
